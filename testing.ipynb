{
 "cells": [
  {
   "cell_type": "code",
   "execution_count": 1,
   "metadata": {},
   "outputs": [],
   "source": [
    "import torch\n",
    "\n",
    "import numpy as np\n",
    "import pandas as pd\n",
    "from models.mlp import MLP\n",
    "\n",
    "from tqdm import tqdm\n",
    "\n",
    "from torch.utils.data.dataset import TensorDataset"
   ]
  },
  {
   "cell_type": "code",
   "execution_count": 2,
   "metadata": {},
   "outputs": [],
   "source": [
    "train = pd.read_csv(\"./dataset/exported/data_176_cleaned/train.csv\")\n",
    "test = pd.read_csv(\"./dataset/exported/data_176_cleaned/test.csv\")\n",
    "\n",
    "all_data = pd.concat([train, test], axis=0)"
   ]
  },
  {
   "cell_type": "code",
   "execution_count": 3,
   "metadata": {},
   "outputs": [],
   "source": [
    "real_led_6 = test[\"led_6\"]"
   ]
  },
  {
   "cell_type": "code",
   "execution_count": 4,
   "metadata": {},
   "outputs": [],
   "source": [
    "test[\"led_6\"] = test[\"led_6\"]*0.95"
   ]
  },
  {
   "cell_type": "code",
   "execution_count": 5,
   "metadata": {},
   "outputs": [],
   "source": [
    "X = torch.from_numpy(test.drop([\"x\", \"y\"], axis=\"columns\").to_numpy()).to(dtype=torch.float32)\n",
    "y = torch.from_numpy(test[[\"x\", \"y\"]].to_numpy()).to(dtype=torch.float32)"
   ]
  },
  {
   "cell_type": "code",
   "execution_count": 6,
   "metadata": {},
   "outputs": [],
   "source": [
    "model = MLP(normalize=True, seed=42, epochs=25)\n",
    "model.load(\"./saved_runs/MLP-TINY-NORMALISE-1747596375.pth\")"
   ]
  },
  {
   "cell_type": "code",
   "execution_count": 7,
   "metadata": {},
   "outputs": [],
   "source": [
    "predicted = ((model.predict(X) / 10).round()*10).to(dtype=torch.int64)"
   ]
  },
  {
   "cell_type": "code",
   "execution_count": 8,
   "metadata": {},
   "outputs": [
    {
     "name": "stderr",
     "output_type": "stream",
     "text": [
      "100%|██████████| 1000/1000 [00:00<00:00, 1078.62it/s]"
     ]
    },
    {
     "name": "stdout",
     "output_type": "stream",
     "text": [
      "Predicted scalar: 1.0157092809677124\n"
     ]
    },
    {
     "name": "stderr",
     "output_type": "stream",
     "text": [
      "\n"
     ]
    }
   ],
   "source": [
    "led_6 = 0\n",
    "n = 0\n",
    "random_idx = np.random.randint(0, len(test), 1000)\n",
    "for i in tqdm(range(1000)):\n",
    "    i = random_idx[i]\n",
    "    predicted_i = predicted[i, :]\n",
    "    \n",
    "    first = all_data[all_data[\"x\"] == predicted_i[0].item()]\n",
    "    second = first[first[\"y\"] == predicted_i[1].item()]\n",
    "    \n",
    "    if len(second[\"led_6\"]) == 0 or X[i, 6] == 0:\n",
    "        continue\n",
    "\n",
    "    led_6 += second[\"led_6\"].item() / X[i, 6]\n",
    "    n += 1\n",
    "\n",
    "predicted_scalar = led_6/n\n",
    "print(f\"Predicted scalar: {predicted_scalar}\")"
   ]
  },
  {
   "cell_type": "code",
   "execution_count": 9,
   "metadata": {},
   "outputs": [],
   "source": [
    "adjusted_X = X.clone()\n",
    "adjusted_X[:, 6] = adjusted_X[:, 6] * predicted_scalar"
   ]
  },
  {
   "cell_type": "code",
   "execution_count": 10,
   "metadata": {},
   "outputs": [],
   "source": [
    "asjusted_predicted = ((model.predict(adjusted_X) / 10).round()*10).to(dtype=torch.int64)"
   ]
  },
  {
   "cell_type": "code",
   "execution_count": 12,
   "metadata": {},
   "outputs": [
    {
     "name": "stderr",
     "output_type": "stream",
     "text": [
      "100%|██████████| 1000/1000 [00:00<00:00, 1089.21it/s]"
     ]
    },
    {
     "name": "stdout",
     "output_type": "stream",
     "text": [
      "After adjusting predicted scalar: 0.9972536563873291\n"
     ]
    },
    {
     "name": "stderr",
     "output_type": "stream",
     "text": [
      "\n"
     ]
    }
   ],
   "source": [
    "led_6 = 0\n",
    "n = 0\n",
    "for i in tqdm(range(1000)):\n",
    "    i = random_idx[i]\n",
    "    predicted_i = asjusted_predicted[i, :]\n",
    "    \n",
    "    first = all_data[all_data[\"x\"] == predicted_i[0].item()]\n",
    "    second = first[first[\"y\"] == predicted_i[1].item()]\n",
    "    \n",
    "    if len(second[\"led_6\"]) == 0 or adjusted_X[i, 6] == 0:\n",
    "        continue\n",
    "\n",
    "    led_6 += second[\"led_6\"].item() / adjusted_X[i, 6]\n",
    "    n += 1\n",
    "\n",
    "adjusted_predicted_scalar = led_6/n\n",
    "print(f\"After adjusting predicted scalar: {adjusted_predicted_scalar}\")"
   ]
  }
 ],
 "metadata": {
  "kernelspec": {
   "display_name": ".venv",
   "language": "python",
   "name": "python3"
  },
  "language_info": {
   "codemirror_mode": {
    "name": "ipython",
    "version": 3
   },
   "file_extension": ".py",
   "mimetype": "text/x-python",
   "name": "python",
   "nbconvert_exporter": "python",
   "pygments_lexer": "ipython3",
   "version": "3.13.3"
  }
 },
 "nbformat": 4,
 "nbformat_minor": 2
}
