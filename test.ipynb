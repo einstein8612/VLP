{
 "cells": [
  {
   "cell_type": "code",
   "execution_count": null,
   "id": "fa68fd77",
   "metadata": {},
   "outputs": [
    {
     "name": "stderr",
     "output_type": "stream",
     "text": [
      "Loading .mat files: 100%|██████████| 242/242 [00:10<00:00, 23.31it/s]\n"
     ]
    }
   ],
   "source": [
    "from dataset.convert import load_data\n",
    "\n",
    "data = load_data(\"./dataset/mat_files\", True)"
   ]
  },
  {
   "cell_type": "code",
   "execution_count": 8,
   "id": "234b7c95",
   "metadata": {},
   "outputs": [],
   "source": [
    "import pandas as pd\n",
    "\n",
    "df= pd.DataFrame(data, columns=[\"x\", \"y\", \"z\"]+[\"led\"+str(i) for i in range(0, 36)])\n",
    "\n",
    "df.sort_values(by=[\"x\", \"y\", \"z\"], inplace=True)\n",
    "\n",
    "df.to_csv(\"dataset.csv\", index=False)"
   ]
  }
 ],
 "metadata": {
  "kernelspec": {
   "display_name": ".venv",
   "language": "python",
   "name": "python3"
  },
  "language_info": {
   "codemirror_mode": {
    "name": "ipython",
    "version": 3
   },
   "file_extension": ".py",
   "mimetype": "text/x-python",
   "name": "python",
   "nbconvert_exporter": "python",
   "pygments_lexer": "ipython3",
   "version": "3.13.2"
  }
 },
 "nbformat": 4,
 "nbformat_minor": 5
}
